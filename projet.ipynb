{
 "cells": [
  {
   "cell_type": "code",
   "execution_count": 4,
   "metadata": {},
   "outputs": [],
   "source": [
    "!lib_points <square.tsp | efst | bb > square.txt"
   ]
  },
  {
   "cell_type": "code",
   "execution_count": 2,
   "metadata": {},
   "outputs": [
    {
     "data": {
      "image/png": "[encoded data removed]",
      "text/plain": [
       "<Figure size 432x288 with 1 Axes>"
      ]
     },
     "metadata": {
      "needs_background": "light"
     },
     "output_type": "display_data"
    }
   ],
   "source": [
    "import numpy as np \n",
    "import matplotlib.pyplot as plt\n",
    "\n",
    "x = np.array([10, 10, 20, 20, 17.113248654051873, 12.886751345948128])\n",
    "y = np.array([10, 20, 10, 20, 15, 15])\n",
    "\n",
    "plt.scatter(x, y)\n",
    "plt.show()"
   ]
  },
  {
   "cell_type": "code",
   "execution_count": 7,
   "metadata": {},
   "outputs": [
    {
     "name": "stdout",
     "output_type": "stream",
     "text": [
      "Coordinates after 'DefineTerminals': [('10.000000000000000', '10.000000000000000'), ('10.000000000000000', '20.000000000000000'), ('20.000000000000000', '10.000000000000000'), ('20.000000000000000', '20.000000000000000')]\n",
      "Coordinates after 'Certificate of solution': [('17.113248654051873', '15.000000000000000'), ('12.886751345948128', '15.000000000000000')]\n"
     ]
    }
   ],
   "source": [
    "import re\n",
    "\n",
    "\n",
    "def extract_coordinates_from_sections(text):\n",
    "    # Splitting the text into two parts\n",
    "    part_define_terminals = text.split('DefineTerminals')[\n",
    "        1].split('%%EndSetup')[0]\n",
    "    part_certificate_of_solution = text.split('Certificate of solution:')[\n",
    "        1].split('%%Page:')[0]\n",
    "\n",
    "    # Regular expression to find patterns of two floating point numbers\n",
    "    pattern = r'(\\d+\\.\\d+)\\s+(\\d+\\.\\d+)'\n",
    "\n",
    "    # Extracting coordinates\n",
    "    coordinates_define_terminals = re.findall(pattern, part_define_terminals)\n",
    "    coordinates_certificate_of_solution = re.findall(\n",
    "        pattern, part_certificate_of_solution)\n",
    "\n",
    "    return coordinates_define_terminals, coordinates_certificate_of_solution\n",
    "\n",
    "\n",
    "# Example usage\n",
    "text = \"\"\"\n",
    " % bb\n",
    " % Args:\n",
    " % Phase 1: 0.00 seconds\n",
    "\n",
    "%%BeginSetup\n",
    "\n",
    "10 20 10 20 SetAxes\n",
    "\n",
    "4 DefineTerminals\n",
    "\t10.000000000000000\t10.000000000000000\tDT\n",
    "\t10.000000000000000\t20.000000000000000\tDT\n",
    "\t20.000000000000000\t10.000000000000000\tDT\n",
    "\t20.000000000000000\t20.000000000000000\tDT\n",
    "\n",
    "%%EndSetup\n",
    "\n",
    "\n",
    " % Certificate of solution:\n",
    " % @C\t17.113248654051873\t15.000000000000000\n",
    " % @C\t12.886751345948128\t15.000000000000000\n",
    "%%Page: 1 1\n",
    "BeginPlot\n",
    "\tPlot_Terminals\n",
    " % fs4: 3 2 0 1\n",
    "\t3 T\t17.113248654051873\t15.000000000000000\tS\n",
    "\t17.113248654051873\t15.000000000000000\t2 T\tS\n",
    "\t17.113248654051873\t15.000000000000000\t12.886751345948128\t15.000000000000000\tS\n",
    "\t12.886751345948128\t15.000000000000000\t0 T\tS\n",
    "\t12.886751345948128\t15.000000000000000\t1 T\tS\n",
    "  (Euclidean SMT:  4 points,  length = 27.320508075688767,  0.00 seconds)\n",
    "EndPlot\n",
    "\n",
    "% @0 Euclidean SMT\n",
    "% N M Nodes LPs P1CPU P2CPU TotCPU\n",
    "% @1 4 8 0 0 0.00 0.00 0.00\n",
    "% Z RootZ %Gap RootLPs RootCPU RedMST\n",
    "% @2 27.320508075688767 - - 0 0.00 8.9316\n",
    "% InitPRows InitPNZ InitLPRows InitLPNZ\n",
    "% @3 0 0 0 0\n",
    "% RootPRows RootPNZ RootLPRows RootLPNZ\n",
    "% @4 0 0 0 0\n",
    "% FinalPRows FinalPNZ FinalLPRows FinalLPNZ\n",
    "% @5 0 0 0 0\n",
    "% SMTFSTs SMTAvgFSTSz SMTMaxFSTSz #2FSTs #3FSTs ... #10FSTS #>10FSTs\n",
    "% @6 1 4.000000 4 0 0 1 0 0 0 0 0 0 0\n",
    "\n",
    "\"\"\"\n",
    "\n",
    "\n",
    "# Extracting coordinates\n",
    "coordinates_terminals, coordinates_solution = extract_coordinates_from_sections(\n",
    "    text)\n",
    "\n",
    "# Printing results\n",
    "print(\"Coordinates after 'DefineTerminals':\", coordinates_terminals)\n",
    "print(\"Coordinates after 'Certificate of solution':\", coordinates_solution)"
   ]
  }
 ],
 "metadata": {
  "kernelspec": {
   "display_name": "base",
   "language": "python",
   "name": "python3"
  },
  "language_info": {
   "codemirror_mode": {
    "name": "ipython",
    "version": 3
   },
   "file_extension": ".py",
   "mimetype": "text/x-python",
   "name": "python",
   "nbconvert_exporter": "python",
   "pygments_lexer": "ipython3",
   "version": "3.9.12"
  }
 },
 "nbformat": 4,
 "nbformat_minor": 2
}
