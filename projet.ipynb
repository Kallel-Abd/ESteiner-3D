{
 "cells": [
  {
   "cell_type": "code",
   "execution_count": 1,
   "metadata": {},
   "outputs": [
    {
     "name": "stdout",
     "output_type": "stream",
     "text": [
      " % bb\n",
      " % Args:\n",
      " % Phase 1: 0.00 seconds\n",
      "\n",
      "%%BeginSetup\n",
      "\n",
      "10 20 10 20 SetAxes\n",
      "\n",
      "4 DefineTerminals\n",
      "\t10.000000000000000\t10.000000000000000\tDT\n",
      "\t10.000000000000000\t20.000000000000000\tDT\n",
      "\t20.000000000000000\t10.000000000000000\tDT\n",
      "\t20.000000000000000\t20.000000000000000\tDT\n",
      "\n",
      "%%EndSetup\n",
      "\n",
      "\n",
      " % Certificate of solution:\n",
      " % @C\t17.113248654051873\t15.000000000000000\n",
      " % @C\t12.886751345948128\t15.000000000000000\n",
      "%%Page: 1 1\n",
      "BeginPlot\n",
      "\tPlot_Terminals\n",
      " % fs4: 3 2 0 1\n",
      "\t3 T\t17.113248654051873\t15.000000000000000\tS\n",
      "\t17.113248654051873\t15.000000000000000\t2 T\tS\n",
      "\t17.113248654051873\t15.000000000000000\t12.886751345948128\t15.000000000000000\tS\n",
      "\t12.886751345948128\t15.000000000000000\t0 T\tS\n",
      "\t12.886751345948128\t15.000000000000000\t1 T\tS\n",
      "  (Euclidean SMT:  4 points,  length = 27.320508075688771,  0.00 seconds)\n",
      "EndPlot\n",
      "\n",
      "% @0 Euclidean SMT\n",
      "% N M Nodes LPs P1CPU P2CPU TotCPU\n",
      "% @1 4 8 0 0 0.00 0.00 0.00\n",
      "% Z RootZ %Gap RootLPs RootCPU RedMST\n",
      "% @2 27.320508075688771 - - 0 0.00 8.9316\n",
      "% InitPRows InitPNZ InitLPRows InitLPNZ\n",
      "% @3 0 0 0 0\n",
      "% RootPRows RootPNZ RootLPRows RootLPNZ\n",
      "% @4 0 0 0 0\n",
      "% FinalPRows FinalPNZ FinalLPRows FinalLPNZ\n",
      "% @5 0 0 0 0\n",
      "% SMTFSTs SMTAvgFSTSz SMTMaxFSTSz #2FSTs #3FSTs ... #10FSTS #>10FSTs\n",
      "% @6 1 4.000000 4 0 0 1 0 0 0 0 0 0 0\n",
      "\n",
      "3 T\n",
      "2 T\n",
      "0 T\n",
      "1 T\n",
      "sommets du graph [('10.000000000000000', '10.000000000000000'), ('10.000000000000000', '20.000000000000000'), ('20.000000000000000', '10.000000000000000'), ('20.000000000000000', '20.000000000000000')]\n",
      "sommets du Steiner [('17.113248654051873', '15.000000000000000'), ('12.886751345948128', '15.000000000000000')]\n"
     ]
    },
    {
     "data": {
      "image/png": "[encoded data removed]",
      "text/plain": [
       "<Figure size 432x288 with 1 Axes>"
      ]
     },
     "metadata": {
      "needs_background": "light"
     },
     "output_type": "display_data"
    },
    {
     "data": {
      "text/plain": [
       "[[('20.000000000000000', '20.000000000000000'), (17.113248654051873, 15.0)],\n",
       " [(17.113248654051873, 15.0), ('20.000000000000000', '10.000000000000000')],\n",
       " [(12.886751345948127, 15.0), ('10.000000000000000', '10.000000000000000')],\n",
       " [(12.886751345948127, 15.0), ('10.000000000000000', '20.000000000000000')]]"
      ]
     },
     "execution_count": 1,
     "metadata": {},
     "output_type": "execute_result"
    }
   ],
   "source": [
    "from EST2D import EST2D\n",
    "\n",
    "estprob = EST2D(\"square.tsp\")\n",
    "estprob.solve()\n",
    "# estprob.draw()\n",
    "estprob.plot_steiner_tree()\n",
    "estprob.distance\n",
    "estprob.connections"
   ]
  },
  {
   "cell_type": "code",
   "execution_count": 2,
   "metadata": {},
   "outputs": [
    {
     "ename": "TypeError",
     "evalue": "extract_connections() missing 1 required positional argument: 'input_text'",
     "output_type": "error",
     "traceback": [
      "\u001b[0;31m---------------------------------------------------------------------------\u001b[0m",
      "\u001b[0;31mTypeError\u001b[0m                                 Traceback (most recent call last)",
      "\u001b[0;32m/tmp/ipykernel_40699/1080834442.py\u001b[0m in \u001b[0;36m<module>\u001b[0;34m\u001b[0m\n\u001b[1;32m     30\u001b[0m                 \u001b[0mprint\u001b[0m\u001b[0;34m(\u001b[0m\u001b[0mpoint\u001b[0m\u001b[0;34m)\u001b[0m\u001b[0;34m\u001b[0m\u001b[0;34m\u001b[0m\u001b[0m\n\u001b[1;32m     31\u001b[0m                 \u001b[0mconnections\u001b[0m\u001b[0;34m[\u001b[0m\u001b[0mi\u001b[0m\u001b[0;34m]\u001b[0m\u001b[0;34m[\u001b[0m\u001b[0mj\u001b[0m\u001b[0;34m]\u001b[0m \u001b[0;34m=\u001b[0m \u001b[0mestprob\u001b[0m\u001b[0;34m.\u001b[0m\u001b[0mterminals\u001b[0m\u001b[0;34m[\u001b[0m\u001b[0mint\u001b[0m\u001b[0;34m(\u001b[0m\u001b[0mpoint\u001b[0m\u001b[0;34m[\u001b[0m\u001b[0;36m0\u001b[0m\u001b[0;34m]\u001b[0m\u001b[0;34m)\u001b[0m\u001b[0;34m]\u001b[0m\u001b[0;34m\u001b[0m\u001b[0;34m\u001b[0m\u001b[0m\n\u001b[0;32m---> 32\u001b[0;31m \u001b[0mextract_connections\u001b[0m\u001b[0;34m(\u001b[0m\u001b[0;34m)\u001b[0m\u001b[0;34m\u001b[0m\u001b[0;34m\u001b[0m\u001b[0m\n\u001b[0m\u001b[1;32m     33\u001b[0m \u001b[0mprint\u001b[0m\u001b[0;34m(\u001b[0m\u001b[0mestprob\u001b[0m\u001b[0;34m.\u001b[0m\u001b[0mconnections\u001b[0m\u001b[0;34m)\u001b[0m\u001b[0;34m\u001b[0m\u001b[0;34m\u001b[0m\u001b[0m\n",
      "\u001b[0;31mTypeError\u001b[0m: extract_connections() missing 1 required positional argument: 'input_text'"
     ]
    }
   ],
   "source": [
    "import re\n",
    "\n",
    "def extract_connections(input_text):\n",
    "\n",
    "\n",
    "    plot_text = re.search(r\"BeginPlot(.*?)EndPlot\", input_text, re.DOTALL).group(1)\n",
    "    lines = plot_text.strip().split('\\n')\n",
    "\n",
    "    # Initialize a list to store the connections\n",
    "    connections = []\n",
    "\n",
    "    # Regular expression to match the lines with connections\n",
    "    connection_pattern = re.compile(r\"(\\d+ T)\\s+([\\d.]+)\\s+([\\d.]+)|([\\d.]+)\\s+([\\d.]+)\\s+(\\d+ T)\")\n",
    "\n",
    "    for line in lines:\n",
    "        # Check if line matches the connection pattern\n",
    "        match = connection_pattern.findall(line)\n",
    "        for m in match:\n",
    "            if m[0]:  # If the first group is not empty, format is \"ID, x, y\"\n",
    "                connections.append([m[0], (float(m[1]), float(m[2]))])\n",
    "            else:  # Format is \"x, y, ID\"\n",
    "                connections.append([(float(m[3]), float(m[4])), m[5]])\n",
    "\n",
    "\n",
    "\n",
    "\n",
    "    for i, connection in enumerate(connections):\n",
    "        for j, point in enumerate(connection):\n",
    "            if 'T' in  point:\n",
    "                print(point)\n",
    "                connections[i][j] = estprob.terminals[int(point[0])]\n",
    "extract_connections()\n",
    "print(estprob.connections)"
   ]
  }
 ],
 "metadata": {
  "kernelspec": {
   "display_name": "base",
   "language": "python",
   "name": "python3"
  },
  "language_info": {
   "codemirror_mode": {
    "name": "ipython",
    "version": 3
   },
   "file_extension": ".py",
   "mimetype": "text/x-python",
   "name": "python",
   "nbconvert_exporter": "python",
   "pygments_lexer": "ipython3",
   "version": "3.8.10"
  }
 },
 "nbformat": 4,
 "nbformat_minor": 2
}
